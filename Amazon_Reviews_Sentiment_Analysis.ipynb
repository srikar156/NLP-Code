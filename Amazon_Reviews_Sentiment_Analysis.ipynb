{
 "cells": [
  {
   "cell_type": "markdown",
   "metadata": {},
   "source": [
    "## This is the Sentiment Analysis for Amazon Reviews of the products listed on Amazon. The reviews are entered by actual customers. The review has attributes like stars, the actual text entered, we are generating Sentiment Polarity Score basis the data."
   ]
  },
  {
   "cell_type": "code",
   "execution_count": 4,
   "metadata": {},
   "outputs": [],
   "source": [
    "#### Loading all the required libraries here\n",
    "from lxml import html  \n",
    "import requests\n",
    "import pandas as pd\n",
    "from nltk.corpus import stopwords\n",
    "from textblob import TextBlob\n",
    "import matplotlib.pyplot as plt\n",
    "\n",
    "amazon_url = 'https://www.amazon.co.uk/Hive-Heating-Thermostat-Professional-Installation/product-reviews/B011B3J6KY/ref=cm_cr_othr_d_show_all?ie=UTF8&reviewerType=all_reviews&pageNumber='\n",
    "user_agent = 'Mozilla/5.0 (Macintosh; Intel Mac OS X 10_12_6) AppleWebKit/537.36 (KHTML, like Gecko) Chrome/62.0.3202.94 Safari/537.36'\n",
    "\n",
    "headers = {'User-Agent': user_agent}\n",
    "page = requests.get(amazon_url, headers = headers)\n",
    "parser = html.fromstring(page.content)"
   ]
  },
  {
   "cell_type": "code",
   "execution_count": 6,
   "metadata": {},
   "outputs": [
    {
     "name": "stderr",
     "output_type": "stream",
     "text": [
      "/anaconda3/lib/python3.6/site-packages/psycopg2/__init__.py:144: UserWarning: The psycopg2 wheel package will be renamed from release 2.8; in order to keep installing from binary please use \"pip install psycopg2-binary\" instead. For details see: <http://initd.org/psycopg/docs/install.html#binary-install-from-pypi>.\n",
      "  \"\"\")\n"
     ]
    }
   ],
   "source": [
    "import sys\n",
    "import numpy as np\n",
    "import pandas as pd\n",
    "import matplotlib\n",
    "import matplotlib.pyplot as plt\n",
    "import sklearn\n",
    "import utilities\n",
    "import scikitplot as skplt\n",
    "import nltk"
   ]
  },
  {
   "cell_type": "markdown",
   "metadata": {},
   "source": [
    "#### Download all the stopwords package here"
   ]
  },
  {
   "cell_type": "code",
   "execution_count": 7,
   "metadata": {},
   "outputs": [
    {
     "name": "stdout",
     "output_type": "stream",
     "text": [
      "[nltk_data] Downloading package stopwords to\n",
      "[nltk_data]     /Users/vaibhav.verdhan/nltk_data...\n",
      "[nltk_data]   Package stopwords is already up-to-date!\n"
     ]
    },
    {
     "data": {
      "text/plain": [
       "True"
      ]
     },
     "execution_count": 7,
     "metadata": {},
     "output_type": "execute_result"
    }
   ],
   "source": [
    "nltk.download('stopwords')"
   ]
  },
  {
   "cell_type": "code",
   "execution_count": 8,
   "metadata": {},
   "outputs": [
    {
     "name": "stdout",
     "output_type": "stream",
     "text": [
      "[nltk_data] Downloading package punkt to\n",
      "[nltk_data]     /Users/vaibhav.verdhan/nltk_data...\n",
      "[nltk_data]   Package punkt is already up-to-date!\n"
     ]
    },
    {
     "data": {
      "text/plain": [
       "True"
      ]
     },
     "execution_count": 8,
     "metadata": {},
     "output_type": "execute_result"
    }
   ],
   "source": [
    "nltk.download('punkt')"
   ]
  },
  {
   "cell_type": "code",
   "execution_count": 10,
   "metadata": {},
   "outputs": [
    {
     "name": "stdout",
     "output_type": "stream",
     "text": [
      "[nltk_data] Downloading package wordnet to\n",
      "[nltk_data]     /Users/vaibhav.verdhan/nltk_data...\n",
      "[nltk_data]   Package wordnet is already up-to-date!\n"
     ]
    },
    {
     "data": {
      "text/plain": [
       "True"
      ]
     },
     "execution_count": 10,
     "metadata": {},
     "output_type": "execute_result"
    }
   ],
   "source": [
    "nltk.download('wordnet')"
   ]
  },
  {
   "cell_type": "code",
   "execution_count": 11,
   "metadata": {},
   "outputs": [],
   "source": [
    "xpath_reviews = '//div[@data-hook=\"review\"]'\n",
    "reviews = parser.xpath(xpath_reviews)"
   ]
  },
  {
   "cell_type": "code",
   "execution_count": 12,
   "metadata": {},
   "outputs": [],
   "source": [
    "xpath_rating  = './/i[@data-hook=\"review-star-rating\"]//text()' \n",
    "xpath_title   = './/a[@data-hook=\"review-title\"]//text()'\n",
    "xpath_author  = './/a[@data-hook=\"review-author\"]//text()'\n",
    "xpath_date    = './/span[@data-hook=\"review-date\"]//text()'\n",
    "xpath_body    = './/span[@data-hook=\"review-body\"]//text()'\n",
    "xpath_helpful = './/span[@data-hook=\"helpful-vote-statement\"]//text()'"
   ]
  },
  {
   "cell_type": "code",
   "execution_count": 13,
   "metadata": {},
   "outputs": [],
   "source": [
    "# Create a dataframe here. \n",
    "\n",
    "reviews_df = pd.DataFrame()\n",
    "for review in reviews:\n",
    "    rating  = review.xpath(xpath_rating)\n",
    "    title   = review.xpath(xpath_title)\n",
    "    author  = review.xpath(xpath_author)\n",
    "    date    = review.xpath(xpath_date)\n",
    "    body    = review.xpath(xpath_body)\n",
    "    helpful = review.xpath(xpath_helpful)\n",
    "\n",
    "    review_dict = {'rating': rating,\n",
    "                   'title': title,\n",
    "                   'author': author,             \n",
    "                   'date': date,\n",
    "                   'body': body,\n",
    "                   'helpful': helpful}\n",
    "    reviews_df = reviews_df.append(review_dict, ignore_index=True)"
   ]
  },
  {
   "cell_type": "code",
   "execution_count": 14,
   "metadata": {},
   "outputs": [],
   "source": [
    "all_reviews = pd.DataFrame()"
   ]
  },
  {
   "cell_type": "code",
   "execution_count": 15,
   "metadata": {},
   "outputs": [],
   "source": [
    "# Fill the values of the reviews here. . \n",
    "\n",
    "for i in range(1,90):\n",
    "    amazon_url = 'https://www.amazon.co.uk/Hive-Heating-Thermostat-Professional-Installation/product-reviews/B011B3J6KY/ref=cm_cr_othr_d_show_all?ie=UTF8&reviewerType=all_reviews&pageNumber='+str(i)\n",
    "    headers = {'User-Agent': user_agent}\n",
    "    page = requests.get(amazon_url, headers = headers)\n",
    "    parser = html.fromstring(page.content)\n",
    "    xpath_reviews = '//div[@data-hook=\"review\"]'\n",
    "    reviews = parser.xpath(xpath_reviews)\n",
    "    reviews_df = pd.DataFrame()\n",
    "    xpath_rating  = './/i[@data-hook=\"review-star-rating\"]//text()' \n",
    "    xpath_title   = './/a[@data-hook=\"review-title\"]//text()'\n",
    "    xpath_author  = './/a[@data-hook=\"review-author\"]//text()'\n",
    "    xpath_date    = './/span[@data-hook=\"review-date\"]//text()'\n",
    "    xpath_body    = './/span[@data-hook=\"review-body\"]//text()'\n",
    "    xpath_helpful = './/span[@data-hook=\"helpful-vote-statement\"]//text()'\n",
    "    #print(i)\n",
    "    for review in reviews:\n",
    "        rating  = review.xpath(xpath_rating)\n",
    "        title   = review.xpath(xpath_title)\n",
    "        author  = review.xpath(xpath_author)\n",
    "        date    = review.xpath(xpath_date)\n",
    "        body    = review.xpath(xpath_body)\n",
    "        helpful = review.xpath(xpath_helpful)\n",
    "\n",
    "        review_dict = {'rating': rating,\n",
    "                       'title': title,\n",
    "                       'author': author,             \n",
    "                       'date': date,\n",
    "                       'body': body,\n",
    "                       'helpful': helpful}\n",
    "        reviews_df = reviews_df.append(review_dict, ignore_index=True)\n",
    "    #print(reviews_df)\n",
    "    all_reviews = all_reviews.append(reviews_df)\n",
    "    \n"
   ]
  },
  {
   "cell_type": "code",
   "execution_count": 16,
   "metadata": {},
   "outputs": [
    {
     "data": {
      "text/html": [
       "<div>\n",
       "<style scoped>\n",
       "    .dataframe tbody tr th:only-of-type {\n",
       "        vertical-align: middle;\n",
       "    }\n",
       "\n",
       "    .dataframe tbody tr th {\n",
       "        vertical-align: top;\n",
       "    }\n",
       "\n",
       "    .dataframe thead th {\n",
       "        text-align: right;\n",
       "    }\n",
       "</style>\n",
       "<table border=\"1\" class=\"dataframe\">\n",
       "  <thead>\n",
       "    <tr style=\"text-align: right;\">\n",
       "      <th></th>\n",
       "      <th>author</th>\n",
       "      <th>body</th>\n",
       "      <th>date</th>\n",
       "      <th>helpful</th>\n",
       "      <th>rating</th>\n",
       "      <th>title</th>\n",
       "    </tr>\n",
       "  </thead>\n",
       "  <tbody>\n",
       "    <tr>\n",
       "      <th>0</th>\n",
       "      <td>[Rob A.]</td>\n",
       "      <td>[Great product, replaced a very old 80's slide...</td>\n",
       "      <td>[on 16 January 2018]</td>\n",
       "      <td>[115 people found this helpful]</td>\n",
       "      <td>[5.0 out of 5 stars]</td>\n",
       "      <td>[Really useful, and sort of cool!]</td>\n",
       "    </tr>\n",
       "    <tr>\n",
       "      <th>1</th>\n",
       "      <td>[S. Newton]</td>\n",
       "      <td>[I have a combi boiler, no water tank., The co...</td>\n",
       "      <td>[on 26 December 2017]</td>\n",
       "      <td>[3 people found this helpful]</td>\n",
       "      <td>[4.0 out of 5 stars]</td>\n",
       "      <td>[Works fine with Alexa. Dubious about claimed ...</td>\n",
       "    </tr>\n",
       "    <tr>\n",
       "      <th>2</th>\n",
       "      <td>[JC]</td>\n",
       "      <td>[Bough together Multizone and Hive, phoned up ...</td>\n",
       "      <td>[on 15 July 2017]</td>\n",
       "      <td>[3 people found this helpful]</td>\n",
       "      <td>[5.0 out of 5 stars]</td>\n",
       "      <td>[Have been perfectly happy with the installation]</td>\n",
       "    </tr>\n",
       "    <tr>\n",
       "      <th>3</th>\n",
       "      <td>[Fionn]</td>\n",
       "      <td>[Delighted with our Hive setup, we bought it w...</td>\n",
       "      <td>[on 6 February 2017]</td>\n",
       "      <td>[One person found this helpful]</td>\n",
       "      <td>[5.0 out of 5 stars]</td>\n",
       "      <td>[Slick Simple Functionality]</td>\n",
       "    </tr>\n",
       "    <tr>\n",
       "      <th>4</th>\n",
       "      <td>[Nemesis]</td>\n",
       "      <td>[I had previously purchased a Drayton Wiser co...</td>\n",
       "      <td>[on 5 March 2018]</td>\n",
       "      <td>[]</td>\n",
       "      <td>[5.0 out of 5 stars]</td>\n",
       "      <td>[Simple, elegant and just works.]</td>\n",
       "    </tr>\n",
       "  </tbody>\n",
       "</table>\n",
       "</div>"
      ],
      "text/plain": [
       "        author                                               body  \\\n",
       "0     [Rob A.]  [Great product, replaced a very old 80's slide...   \n",
       "1  [S. Newton]  [I have a combi boiler, no water tank., The co...   \n",
       "2         [JC]  [Bough together Multizone and Hive, phoned up ...   \n",
       "3      [Fionn]  [Delighted with our Hive setup, we bought it w...   \n",
       "4    [Nemesis]  [I had previously purchased a Drayton Wiser co...   \n",
       "\n",
       "                    date                          helpful  \\\n",
       "0   [on 16 January 2018]  [115 people found this helpful]   \n",
       "1  [on 26 December 2017]    [3 people found this helpful]   \n",
       "2      [on 15 July 2017]    [3 people found this helpful]   \n",
       "3   [on 6 February 2017]  [One person found this helpful]   \n",
       "4      [on 5 March 2018]                               []   \n",
       "\n",
       "                 rating                                              title  \n",
       "0  [5.0 out of 5 stars]                 [Really useful, and sort of cool!]  \n",
       "1  [4.0 out of 5 stars]  [Works fine with Alexa. Dubious about claimed ...  \n",
       "2  [5.0 out of 5 stars]  [Have been perfectly happy with the installation]  \n",
       "3  [5.0 out of 5 stars]                       [Slick Simple Functionality]  \n",
       "4  [5.0 out of 5 stars]                  [Simple, elegant and just works.]  "
      ]
     },
     "execution_count": 16,
     "metadata": {},
     "output_type": "execute_result"
    }
   ],
   "source": [
    "all_reviews.head()"
   ]
  },
  {
   "cell_type": "markdown",
   "metadata": {},
   "source": [
    "#### Define a path here"
   ]
  },
  {
   "cell_type": "code",
   "execution_count": 22,
   "metadata": {},
   "outputs": [],
   "source": [
    "out_folder = '/Users/vaibhav.verdhan/Documents/Sentiment Analysis/'"
   ]
  },
  {
   "cell_type": "markdown",
   "metadata": {},
   "source": [
    "#### Save the reviews locally"
   ]
  },
  {
   "cell_type": "code",
   "execution_count": 23,
   "metadata": {},
   "outputs": [],
   "source": [
    "all_reviews.to_csv(out_folder + 'Reviews.csv')"
   ]
  },
  {
   "cell_type": "markdown",
   "metadata": {},
   "source": [
    "#### Load the data and start the analysis"
   ]
  },
  {
   "cell_type": "code",
   "execution_count": 168,
   "metadata": {},
   "outputs": [],
   "source": [
    "#Load the data now and analyse it\n",
    "data_path = '/users/vaibhav.verdhan/Documents/Sentiment Analysis/'\n",
    "reviewDataCSV = 'Reviews.csv'\n",
    "reviewData = (pd.read_csv(data_path+reviewDataCSV,index_col=0,))"
   ]
  },
  {
   "cell_type": "code",
   "execution_count": 169,
   "metadata": {},
   "outputs": [
    {
     "data": {
      "text/plain": [
       "(890, 6)"
      ]
     },
     "execution_count": 169,
     "metadata": {},
     "output_type": "execute_result"
    }
   ],
   "source": [
    "reviewData.shape"
   ]
  },
  {
   "cell_type": "code",
   "execution_count": 107,
   "metadata": {},
   "outputs": [
    {
     "data": {
      "text/plain": [
       "array([\"['5.0 out of 5 stars']\", \"['4.0 out of 5 stars']\",\n",
       "       \"['1.0 out of 5 stars']\", \"['2.0 out of 5 stars']\",\n",
       "       \"['3.0 out of 5 stars']\"], dtype=object)"
      ]
     },
     "execution_count": 107,
     "metadata": {},
     "output_type": "execute_result"
    }
   ],
   "source": [
    "reviewData.rating.unique()"
   ]
  },
  {
   "cell_type": "code",
   "execution_count": 108,
   "metadata": {},
   "outputs": [
    {
     "data": {
      "text/plain": [
       "['5.0 out of 5 stars']    559\n",
       "['1.0 out of 5 stars']    157\n",
       "['4.0 out of 5 stars']     91\n",
       "['3.0 out of 5 stars']     50\n",
       "['2.0 out of 5 stars']     33\n",
       "Name: rating, dtype: int64"
      ]
     },
     "execution_count": 108,
     "metadata": {},
     "output_type": "execute_result"
    }
   ],
   "source": [
    "reviewData.rating.value_counts()"
   ]
  },
  {
   "cell_type": "code",
   "execution_count": 170,
   "metadata": {},
   "outputs": [
    {
     "data": {
      "text/plain": [
       "157"
      ]
     },
     "execution_count": 170,
     "metadata": {},
     "output_type": "execute_result"
    }
   ],
   "source": [
    "reviewData.rating.value_counts()[1]"
   ]
  },
  {
   "cell_type": "code",
   "execution_count": 30,
   "metadata": {},
   "outputs": [
    {
     "data": {
      "text/plain": [
       "\"['5.0 out of 5 stars']\""
      ]
     },
     "execution_count": 30,
     "metadata": {},
     "output_type": "execute_result"
    }
   ],
   "source": [
    "reviewData.rating.unique()[0]"
   ]
  },
  {
   "cell_type": "code",
   "execution_count": 171,
   "metadata": {},
   "outputs": [
    {
     "data": {
      "image/png": "[encoded data removed]",
      "text/plain": [
       "<matplotlib.figure.Figure at 0x1a1f5c9b00>"
      ]
     },
     "metadata": {},
     "output_type": "display_data"
    }
   ],
   "source": [
    "\n",
    "labels = '5 Stars', '1 Star', '4 Stars', '3 Stars', '2 Stars'\n",
    "sizes = [reviewData.rating.value_counts()[0], reviewData.rating.value_counts()[1],reviewData.rating.value_counts()[2],reviewData.rating.value_counts()[3],reviewData.rating.value_counts()[4]]\n",
    "colors = ['green', 'yellowgreen', 'coral', 'lightblue', 'grey']\n",
    "explode = (0, 0, 0, 0, 0)  # explode 1st slice\n",
    " \n",
    "# Plot\n",
    "plt.pie(sizes, explode=explode, labels=labels, colors=colors,\n",
    "        autopct='%1.1f%%', shadow=True, startangle=140)\n",
    " \n",
    "plt.axis('equal')\n",
    "plt.show()"
   ]
  },
  {
   "cell_type": "code",
   "execution_count": 32,
   "metadata": {},
   "outputs": [
    {
     "data": {
      "text/plain": [
       "0    [\"Great product, replaced a very old 80's slid...\n",
       "1    ['I have a combi boiler, no water tank.', 'The...\n",
       "2    [\"Bough together Multizone and Hive, phoned up...\n",
       "3    ['Delighted with our Hive setup, we bought it ...\n",
       "4    ['I had previously purchased a Drayton Wiser c...\n",
       "Name: body, dtype: object"
      ]
     },
     "execution_count": 32,
     "metadata": {},
     "output_type": "execute_result"
    }
   ],
   "source": [
    "reviewData.body.head()"
   ]
  },
  {
   "cell_type": "code",
   "execution_count": 33,
   "metadata": {},
   "outputs": [
    {
     "data": {
      "text/plain": [
       "\"['on 9 September 2017']\""
      ]
     },
     "execution_count": 33,
     "metadata": {},
     "output_type": "execute_result"
    }
   ],
   "source": [
    "# the latest review\n",
    "max(reviewData.date)"
   ]
  },
  {
   "cell_type": "code",
   "execution_count": 34,
   "metadata": {},
   "outputs": [
    {
     "data": {
      "text/plain": [
       "\"['on 1 April 2018']\""
      ]
     },
     "execution_count": 34,
     "metadata": {},
     "output_type": "execute_result"
    }
   ],
   "source": [
    "# the oldest review\n",
    "min(reviewData.date)"
   ]
  },
  {
   "cell_type": "markdown",
   "metadata": {},
   "source": [
    "## The Text Analytics Starts"
   ]
  },
  {
   "cell_type": "markdown",
   "metadata": {},
   "source": [
    "##### Calculate the number of words in each review"
   ]
  },
  {
   "cell_type": "code",
   "execution_count": 35,
   "metadata": {},
   "outputs": [],
   "source": [
    "reviewsBodyWordCount = reviewData.body.apply(lambda x: len(str(x).split(\" \")))"
   ]
  },
  {
   "cell_type": "code",
   "execution_count": 36,
   "metadata": {},
   "outputs": [
    {
     "data": {
      "text/plain": [
       "5    995\n",
       "7    969\n",
       "0    913\n",
       "9    833\n",
       "4    779\n",
       "4    752\n",
       "1    697\n",
       "5    676\n",
       "2    655\n",
       "1    621\n",
       "8    620\n",
       "7    603\n",
       "5    575\n",
       "2    571\n",
       "8    571\n",
       "2    552\n",
       "9    528\n",
       "8    525\n",
       "2    515\n",
       "8    498\n",
       "6    495\n",
       "0    491\n",
       "3    491\n",
       "7    474\n",
       "7    472\n",
       "3    443\n",
       "4    418\n",
       "7    410\n",
       "6    386\n",
       "8    378\n",
       "    ... \n",
       "2      2\n",
       "5      2\n",
       "7      2\n",
       "2      2\n",
       "3      2\n",
       "7      2\n",
       "3      2\n",
       "1      2\n",
       "2      2\n",
       "4      2\n",
       "2      1\n",
       "7      1\n",
       "8      1\n",
       "1      1\n",
       "5      1\n",
       "8      1\n",
       "7      1\n",
       "8      1\n",
       "8      1\n",
       "1      1\n",
       "0      1\n",
       "5      1\n",
       "4      1\n",
       "8      1\n",
       "2      1\n",
       "8      1\n",
       "7      1\n",
       "6      1\n",
       "9      1\n",
       "3      1\n",
       "Name: body, Length: 890, dtype: int64"
      ]
     },
     "execution_count": 36,
     "metadata": {},
     "output_type": "execute_result"
    }
   ],
   "source": [
    "reviewsBodyWordCount.sort_values(ascending= False)"
   ]
  },
  {
   "cell_type": "code",
   "execution_count": 37,
   "metadata": {},
   "outputs": [
    {
     "data": {
      "text/plain": [
       "5    995\n",
       "7    969\n",
       "0    913\n",
       "9    833\n",
       "4    779\n",
       "Name: body, dtype: int64"
      ]
     },
     "execution_count": 37,
     "metadata": {},
     "output_type": "execute_result"
    }
   ],
   "source": [
    "reviewsBodyWordCount.nlargest(n=5, keep='first')"
   ]
  },
  {
   "cell_type": "code",
   "execution_count": 38,
   "metadata": {},
   "outputs": [
    {
     "data": {
      "text/plain": [
       "4    1\n",
       "8    1\n",
       "0    1\n",
       "1    1\n",
       "8    1\n",
       "Name: body, dtype: int64"
      ]
     },
     "execution_count": 38,
     "metadata": {},
     "output_type": "execute_result"
    }
   ],
   "source": [
    "reviewsBodyWordCount.nsmallest(n=5, keep='first')"
   ]
  },
  {
   "cell_type": "markdown",
   "metadata": {},
   "source": [
    "##### Calculate the number of characters in each review"
   ]
  },
  {
   "cell_type": "code",
   "execution_count": 39,
   "metadata": {},
   "outputs": [],
   "source": [
    "reviewsBodyCharCount = reviewData.body.str.len() ## this also includes spaces"
   ]
  },
  {
   "cell_type": "code",
   "execution_count": 40,
   "metadata": {},
   "outputs": [
    {
     "data": {
      "text/plain": [
       "5    5635\n",
       "7    5228\n",
       "0    4596\n",
       "9    4393\n",
       "4    4186\n",
       "Name: body, dtype: int64"
      ]
     },
     "execution_count": 40,
     "metadata": {},
     "output_type": "execute_result"
    }
   ],
   "source": [
    "reviewsBodyCharCount.nlargest(n=5, keep='first')"
   ]
  },
  {
   "cell_type": "code",
   "execution_count": 41,
   "metadata": {},
   "outputs": [
    {
     "data": {
      "text/plain": [
       "8    6\n",
       "3    6\n",
       "8    7\n",
       "0    8\n",
       "1    8\n",
       "Name: body, dtype: int64"
      ]
     },
     "execution_count": 41,
     "metadata": {},
     "output_type": "execute_result"
    }
   ],
   "source": [
    "reviewsBodyCharCount.nsmallest(n=5, keep='first')"
   ]
  },
  {
   "cell_type": "markdown",
   "metadata": {},
   "source": [
    "## Pre-processing starts"
   ]
  },
  {
   "cell_type": "markdown",
   "metadata": {},
   "source": [
    "#### Convert all the words to lower case"
   ]
  },
  {
   "cell_type": "code",
   "execution_count": 172,
   "metadata": {},
   "outputs": [
    {
     "data": {
      "text/plain": [
       "pandas.core.strings.StringMethods"
      ]
     },
     "execution_count": 172,
     "metadata": {},
     "output_type": "execute_result"
    }
   ],
   "source": [
    "type(reviewData.body.str)"
   ]
  },
  {
   "cell_type": "code",
   "execution_count": 43,
   "metadata": {},
   "outputs": [
    {
     "data": {
      "text/html": [
       "<div>\n",
       "<style scoped>\n",
       "    .dataframe tbody tr th:only-of-type {\n",
       "        vertical-align: middle;\n",
       "    }\n",
       "\n",
       "    .dataframe tbody tr th {\n",
       "        vertical-align: top;\n",
       "    }\n",
       "\n",
       "    .dataframe thead th {\n",
       "        text-align: right;\n",
       "    }\n",
       "</style>\n",
       "<table border=\"1\" class=\"dataframe\">\n",
       "  <thead>\n",
       "    <tr style=\"text-align: right;\">\n",
       "      <th></th>\n",
       "      <th>author</th>\n",
       "      <th>body</th>\n",
       "      <th>date</th>\n",
       "      <th>helpful</th>\n",
       "      <th>rating</th>\n",
       "      <th>title</th>\n",
       "    </tr>\n",
       "  </thead>\n",
       "  <tbody>\n",
       "    <tr>\n",
       "      <th>0</th>\n",
       "      <td>['Rob A.']</td>\n",
       "      <td>[\"Great product, replaced a very old 80's slid...</td>\n",
       "      <td>['on 16 January 2018']</td>\n",
       "      <td>['115 people found this helpful']</td>\n",
       "      <td>['5.0 out of 5 stars']</td>\n",
       "      <td>['Really useful, and sort of cool!']</td>\n",
       "    </tr>\n",
       "    <tr>\n",
       "      <th>1</th>\n",
       "      <td>['S. Newton']</td>\n",
       "      <td>['I have a combi boiler, no water tank.', 'The...</td>\n",
       "      <td>['on 26 December 2017']</td>\n",
       "      <td>['3 people found this helpful']</td>\n",
       "      <td>['4.0 out of 5 stars']</td>\n",
       "      <td>['Works fine with Alexa. Dubious about claimed...</td>\n",
       "    </tr>\n",
       "    <tr>\n",
       "      <th>2</th>\n",
       "      <td>['JC']</td>\n",
       "      <td>[\"Bough together Multizone and Hive, phoned up...</td>\n",
       "      <td>['on 15 July 2017']</td>\n",
       "      <td>['3 people found this helpful']</td>\n",
       "      <td>['5.0 out of 5 stars']</td>\n",
       "      <td>['Have been perfectly happy with the installat...</td>\n",
       "    </tr>\n",
       "    <tr>\n",
       "      <th>3</th>\n",
       "      <td>['Fionn']</td>\n",
       "      <td>['Delighted with our Hive setup, we bought it ...</td>\n",
       "      <td>['on 6 February 2017']</td>\n",
       "      <td>['One person found this helpful']</td>\n",
       "      <td>['5.0 out of 5 stars']</td>\n",
       "      <td>['Slick Simple Functionality']</td>\n",
       "    </tr>\n",
       "    <tr>\n",
       "      <th>4</th>\n",
       "      <td>['Nemesis']</td>\n",
       "      <td>['I had previously purchased a Drayton Wiser c...</td>\n",
       "      <td>['on 5 March 2018']</td>\n",
       "      <td>[]</td>\n",
       "      <td>['5.0 out of 5 stars']</td>\n",
       "      <td>['Simple, elegant and just works.']</td>\n",
       "    </tr>\n",
       "  </tbody>\n",
       "</table>\n",
       "</div>"
      ],
      "text/plain": [
       "          author                                               body  \\\n",
       "0     ['Rob A.']  [\"Great product, replaced a very old 80's slid...   \n",
       "1  ['S. Newton']  ['I have a combi boiler, no water tank.', 'The...   \n",
       "2         ['JC']  [\"Bough together Multizone and Hive, phoned up...   \n",
       "3      ['Fionn']  ['Delighted with our Hive setup, we bought it ...   \n",
       "4    ['Nemesis']  ['I had previously purchased a Drayton Wiser c...   \n",
       "\n",
       "                      date                            helpful  \\\n",
       "0   ['on 16 January 2018']  ['115 people found this helpful']   \n",
       "1  ['on 26 December 2017']    ['3 people found this helpful']   \n",
       "2      ['on 15 July 2017']    ['3 people found this helpful']   \n",
       "3   ['on 6 February 2017']  ['One person found this helpful']   \n",
       "4      ['on 5 March 2018']                                 []   \n",
       "\n",
       "                   rating                                              title  \n",
       "0  ['5.0 out of 5 stars']               ['Really useful, and sort of cool!']  \n",
       "1  ['4.0 out of 5 stars']  ['Works fine with Alexa. Dubious about claimed...  \n",
       "2  ['5.0 out of 5 stars']  ['Have been perfectly happy with the installat...  \n",
       "3  ['5.0 out of 5 stars']                     ['Slick Simple Functionality']  \n",
       "4  ['5.0 out of 5 stars']                ['Simple, elegant and just works.']  "
      ]
     },
     "execution_count": 43,
     "metadata": {},
     "output_type": "execute_result"
    }
   ],
   "source": [
    "reviewData.head()"
   ]
  },
  {
   "cell_type": "code",
   "execution_count": 173,
   "metadata": {},
   "outputs": [],
   "source": [
    "reviewData.body = reviewData.body.str.lower()"
   ]
  },
  {
   "cell_type": "code",
   "execution_count": 174,
   "metadata": {},
   "outputs": [
    {
     "data": {
      "text/html": [
       "<div>\n",
       "<style scoped>\n",
       "    .dataframe tbody tr th:only-of-type {\n",
       "        vertical-align: middle;\n",
       "    }\n",
       "\n",
       "    .dataframe tbody tr th {\n",
       "        vertical-align: top;\n",
       "    }\n",
       "\n",
       "    .dataframe thead th {\n",
       "        text-align: right;\n",
       "    }\n",
       "</style>\n",
       "<table border=\"1\" class=\"dataframe\">\n",
       "  <thead>\n",
       "    <tr style=\"text-align: right;\">\n",
       "      <th></th>\n",
       "      <th>author</th>\n",
       "      <th>body</th>\n",
       "      <th>date</th>\n",
       "      <th>helpful</th>\n",
       "      <th>rating</th>\n",
       "      <th>title</th>\n",
       "    </tr>\n",
       "  </thead>\n",
       "  <tbody>\n",
       "    <tr>\n",
       "      <th>0</th>\n",
       "      <td>['Rob A.']</td>\n",
       "      <td>[\"great product, replaced a very old 80's slid...</td>\n",
       "      <td>['on 16 January 2018']</td>\n",
       "      <td>['115 people found this helpful']</td>\n",
       "      <td>['5.0 out of 5 stars']</td>\n",
       "      <td>['Really useful, and sort of cool!']</td>\n",
       "    </tr>\n",
       "    <tr>\n",
       "      <th>1</th>\n",
       "      <td>['S. Newton']</td>\n",
       "      <td>['i have a combi boiler, no water tank.', 'the...</td>\n",
       "      <td>['on 26 December 2017']</td>\n",
       "      <td>['3 people found this helpful']</td>\n",
       "      <td>['4.0 out of 5 stars']</td>\n",
       "      <td>['Works fine with Alexa. Dubious about claimed...</td>\n",
       "    </tr>\n",
       "    <tr>\n",
       "      <th>2</th>\n",
       "      <td>['JC']</td>\n",
       "      <td>[\"bough together multizone and hive, phoned up...</td>\n",
       "      <td>['on 15 July 2017']</td>\n",
       "      <td>['3 people found this helpful']</td>\n",
       "      <td>['5.0 out of 5 stars']</td>\n",
       "      <td>['Have been perfectly happy with the installat...</td>\n",
       "    </tr>\n",
       "    <tr>\n",
       "      <th>3</th>\n",
       "      <td>['Fionn']</td>\n",
       "      <td>['delighted with our hive setup, we bought it ...</td>\n",
       "      <td>['on 6 February 2017']</td>\n",
       "      <td>['One person found this helpful']</td>\n",
       "      <td>['5.0 out of 5 stars']</td>\n",
       "      <td>['Slick Simple Functionality']</td>\n",
       "    </tr>\n",
       "    <tr>\n",
       "      <th>4</th>\n",
       "      <td>['Nemesis']</td>\n",
       "      <td>['i had previously purchased a drayton wiser c...</td>\n",
       "      <td>['on 5 March 2018']</td>\n",
       "      <td>[]</td>\n",
       "      <td>['5.0 out of 5 stars']</td>\n",
       "      <td>['Simple, elegant and just works.']</td>\n",
       "    </tr>\n",
       "  </tbody>\n",
       "</table>\n",
       "</div>"
      ],
      "text/plain": [
       "          author                                               body  \\\n",
       "0     ['Rob A.']  [\"great product, replaced a very old 80's slid...   \n",
       "1  ['S. Newton']  ['i have a combi boiler, no water tank.', 'the...   \n",
       "2         ['JC']  [\"bough together multizone and hive, phoned up...   \n",
       "3      ['Fionn']  ['delighted with our hive setup, we bought it ...   \n",
       "4    ['Nemesis']  ['i had previously purchased a drayton wiser c...   \n",
       "\n",
       "                      date                            helpful  \\\n",
       "0   ['on 16 January 2018']  ['115 people found this helpful']   \n",
       "1  ['on 26 December 2017']    ['3 people found this helpful']   \n",
       "2      ['on 15 July 2017']    ['3 people found this helpful']   \n",
       "3   ['on 6 February 2017']  ['One person found this helpful']   \n",
       "4      ['on 5 March 2018']                                 []   \n",
       "\n",
       "                   rating                                              title  \n",
       "0  ['5.0 out of 5 stars']               ['Really useful, and sort of cool!']  \n",
       "1  ['4.0 out of 5 stars']  ['Works fine with Alexa. Dubious about claimed...  \n",
       "2  ['5.0 out of 5 stars']  ['Have been perfectly happy with the installat...  \n",
       "3  ['5.0 out of 5 stars']                     ['Slick Simple Functionality']  \n",
       "4  ['5.0 out of 5 stars']                ['Simple, elegant and just works.']  "
      ]
     },
     "execution_count": 174,
     "metadata": {},
     "output_type": "execute_result"
    }
   ],
   "source": [
    "# all the body reviews are converted to lowercase\n",
    "reviewData.head()"
   ]
  },
  {
   "cell_type": "markdown",
   "metadata": {},
   "source": [
    "#### Remove the punctuations"
   ]
  },
  {
   "cell_type": "code",
   "execution_count": 175,
   "metadata": {},
   "outputs": [],
   "source": [
    "reviewData.body = reviewData.body.str.replace('[^\\w\\s]','')"
   ]
  },
  {
   "cell_type": "markdown",
   "metadata": {},
   "source": [
    "#### Remove the Stop Words, which are the commonly occuring words like the, a, an, is etc."
   ]
  },
  {
   "cell_type": "code",
   "execution_count": 176,
   "metadata": {},
   "outputs": [],
   "source": [
    "stop = stopwords.words('english')"
   ]
  },
  {
   "cell_type": "code",
   "execution_count": 177,
   "metadata": {},
   "outputs": [],
   "source": [
    "reviewData.body = reviewData.body.apply(lambda x: \" \".join(x for x in x.split() if x not in stop))"
   ]
  },
  {
   "cell_type": "code",
   "execution_count": 178,
   "metadata": {},
   "outputs": [
    {
     "data": {
      "text/plain": [
       "0    great product replaced old 80s slide timer clo...\n",
       "1    combi boiler water tank control unit arrived w...\n",
       "2    bough together multizone hive phoned british g...\n",
       "3    delighted hive setup bought without installati...\n",
       "4    previously purchased drayton wiser control wir...\n",
       "Name: body, dtype: object"
      ]
     },
     "execution_count": 178,
     "metadata": {},
     "output_type": "execute_result"
    }
   ],
   "source": [
    "reviewData.body.head()"
   ]
  },
  {
   "cell_type": "markdown",
   "metadata": {},
   "source": [
    "##### These are the most comonly occuring words in our corpus. Depending on the requirement, we may remove or keep them. We are removing them here"
   ]
  },
  {
   "cell_type": "code",
   "execution_count": 179,
   "metadata": {},
   "outputs": [],
   "source": [
    "freq = pd.Series(' '.join(reviewData.body).split()).value_counts()[:20]"
   ]
  },
  {
   "cell_type": "code",
   "execution_count": 182,
   "metadata": {},
   "outputs": [
    {
     "data": {
      "text/plain": [
       "['hive',\n",
       " 'heating',\n",
       " 'thermostat',\n",
       " 'gas',\n",
       " 'installation',\n",
       " 'british',\n",
       " 'easy',\n",
       " 'install',\n",
       " 'boiler',\n",
       " 'system',\n",
       " 'use',\n",
       " 'app',\n",
       " 'product',\n",
       " 'would',\n",
       " 'get',\n",
       " 'great',\n",
       " 'home',\n",
       " 'control',\n",
       " 'one',\n",
       " 'engineer']"
      ]
     },
     "execution_count": 182,
     "metadata": {},
     "output_type": "execute_result"
    }
   ],
   "source": [
    "freq"
   ]
  },
  {
   "cell_type": "code",
   "execution_count": 181,
   "metadata": {},
   "outputs": [],
   "source": [
    "freq = list(freq.index)\n",
    "reviewData.body = reviewData.body.apply(lambda x: \" \".join(x for x in x.split() if x not in freq))"
   ]
  },
  {
   "cell_type": "code",
   "execution_count": 183,
   "metadata": {},
   "outputs": [
    {
     "data": {
      "text/plain": [
       "0    replaced old 80s slide timer clock gravity fed...\n",
       "1    combi water tank unit arrived within couple da...\n",
       "2    bough together multizone phoned came installed...\n",
       "3    delighted setup bought without ireland also bo...\n",
       "4    previously purchased drayton wiser wireless tr...\n",
       "Name: body, dtype: object"
      ]
     },
     "execution_count": 183,
     "metadata": {},
     "output_type": "execute_result"
    }
   ],
   "source": [
    "reviewData.body.head()"
   ]
  },
  {
   "cell_type": "markdown",
   "metadata": {},
   "source": [
    "##### Lets see which are the rare words, we are removing them"
   ]
  },
  {
   "cell_type": "code",
   "execution_count": 184,
   "metadata": {},
   "outputs": [],
   "source": [
    "freq = pd.Series(' '.join(reviewData.body).split()).value_counts()[-10:]"
   ]
  },
  {
   "cell_type": "code",
   "execution_count": 185,
   "metadata": {},
   "outputs": [
    {
     "data": {
      "text/plain": [
       "trainout        1\n",
       "setups          1\n",
       "unacceptable    1\n",
       "1000            1\n",
       "30cm            1\n",
       "direction       1\n",
       "assured         1\n",
       "pu              1\n",
       "rebooked        1\n",
       "functioned      1\n",
       "dtype: int64"
      ]
     },
     "execution_count": 185,
     "metadata": {},
     "output_type": "execute_result"
    }
   ],
   "source": [
    "freq"
   ]
  },
  {
   "cell_type": "code",
   "execution_count": 186,
   "metadata": {},
   "outputs": [],
   "source": [
    "freq = list(freq.index)\n",
    "reviewData.body = reviewData.body.apply(lambda x: \" \".join(x for x in x.split() if x not in freq))"
   ]
  },
  {
   "cell_type": "markdown",
   "metadata": {},
   "source": [
    "#### Tokentization of reviews"
   ]
  },
  {
   "cell_type": "code",
   "execution_count": 187,
   "metadata": {},
   "outputs": [],
   "source": [
    "from nltk.tokenize import word_tokenize"
   ]
  },
  {
   "cell_type": "code",
   "execution_count": 188,
   "metadata": {},
   "outputs": [
    {
     "name": "stdout",
     "output_type": "stream",
     "text": [
      "['combi', 'water', 'tank', 'unit', 'arrived', 'within', 'couple', 'days', 'scratch', 'card', 'code', 'arrange', 'fit', 'inside', 'packaging', 'fitted', 'ten', 'days', 'later', 'took', 'hour', 'runs', '4', 'aa', 'batteries', 'supplied', 'site', 'wherever', 'want', 'long', 'effective', 'communication', 'range', 'unitrouter', 'works', 'fine', 'alexa', 'alexa', 'set', 'temperature', '20', 'create', 'time', 'onoff', 'temperature', 'settings', 'easily', 'sure', 'save', 'huge', 'amount', 'money', 'compared', 'standard', 'timed', 'may', 'worth', 'considering', 'like', 'old', 'coming', 'end', 'useful', 'life']\n"
     ]
    }
   ],
   "source": [
    "tokens = word_tokenize(reviewData.iloc[1,1])\n",
    "print(tokens)"
   ]
  },
  {
   "cell_type": "code",
   "execution_count": 189,
   "metadata": {},
   "outputs": [
    {
     "data": {
      "text/plain": [
       "'combi water tank unit arrived within couple days scratch card code arrange fit inside packaging fitted ten days later took hour runs 4 aa batteries supplied site wherever want long effective communication range unitrouter works fine alexa alexa set temperature 20 create time onoff temperature settings easily sure save huge amount money compared standard timed may worth considering like old coming end useful life'"
      ]
     },
     "execution_count": 189,
     "metadata": {},
     "output_type": "execute_result"
    }
   ],
   "source": [
    "reviewData.iloc[1,1]"
   ]
  },
  {
   "cell_type": "markdown",
   "metadata": {},
   "source": [
    "#### Doing Stemming, currenlty commented since we are preferring Lemit"
   ]
  },
  {
   "cell_type": "code",
   "execution_count": 239,
   "metadata": {},
   "outputs": [
    {
     "data": {
      "text/plain": [
       "0    replac old 80 slide timer clock graviti fed st...\n",
       "1    purchas model opt self bit research onlin manu...\n",
       "2    purchas although reason savvi electr peer time...\n",
       "3    instal black fridaycyb monday offer kit ship e...\n",
       "4    love bought new combi realli best thing ive ev...\n",
       "Name: body, dtype: object"
      ]
     },
     "execution_count": 239,
     "metadata": {},
     "output_type": "execute_result"
    }
   ],
   "source": [
    "#from nltk.stem import PorterStemmer\n",
    "#st = PorterStemmer()\n",
    "#reviewData.body[:5].apply(lambda x: \" \".join([st.stem(word) for word in x.split()]))"
   ]
  },
  {
   "cell_type": "markdown",
   "metadata": {},
   "source": [
    "#### Doing Lemmatization"
   ]
  },
  {
   "cell_type": "code",
   "execution_count": 190,
   "metadata": {},
   "outputs": [
    {
     "data": {
      "text/plain": [
       "0    replaced old 80 slide timer clock gravity fed ...\n",
       "1    combi water tank unit arrived within couple da...\n",
       "2    bough together multizone phoned came installed...\n",
       "3    delighted setup bought without ireland also bo...\n",
       "4    previously purchased drayton wiser wireless tr...\n",
       "Name: body, dtype: object"
      ]
     },
     "execution_count": 190,
     "metadata": {},
     "output_type": "execute_result"
    }
   ],
   "source": [
    "from textblob import Word\n",
    "reviewData.body = reviewData.body.apply(lambda x: \" \".join([Word(word).lemmatize() for word in x.split()]))\n",
    "reviewData.body.head()"
   ]
  },
  {
   "cell_type": "markdown",
   "metadata": {},
   "source": [
    "#### Word Cloud function is defined overe here"
   ]
  },
  {
   "cell_type": "code",
   "execution_count": 191,
   "metadata": {},
   "outputs": [],
   "source": [
    "def generate_wordcloud(text): \n",
    "    wordcloud = WordCloud(font_path='/Library/Fonts/Verdana.ttf',\n",
    "                          relative_scaling = 1.0,\n",
    "                          stopwords = {'to', 'of'} \n",
    "                          ).generate(text)\n",
    "    plt.imshow(wordcloud)\n",
    "    plt.axis(\"off\")\n",
    "    plt.show()"
   ]
  },
  {
   "cell_type": "code",
   "execution_count": 192,
   "metadata": {},
   "outputs": [],
   "source": [
    "import matplotlib.pyplot as plt\n",
    "from wordcloud import WordCloud, STOPWORDS "
   ]
  },
  {
   "cell_type": "code",
   "execution_count": 193,
   "metadata": {},
   "outputs": [],
   "source": [
    "sentimentString = reviewData.iloc[1,1]"
   ]
  },
  {
   "cell_type": "code",
   "execution_count": 194,
   "metadata": {},
   "outputs": [],
   "source": [
    "# append to this string \n",
    "for i in range(2,len(reviewData)):\n",
    "    sentimentString = sentimentString + reviewData.iloc[i,1]"
   ]
  },
  {
   "cell_type": "code",
   "execution_count": 195,
   "metadata": {},
   "outputs": [
    {
     "data": {
      "image/png": "[encoded data removed]",
      "text/plain": [
       "<matplotlib.figure.Figure at 0x1a1f5e9390>"
      ]
     },
     "metadata": {},
     "output_type": "display_data"
    }
   ],
   "source": [
    "generate_wordcloud(sentimentString)"
   ]
  },
  {
   "cell_type": "markdown",
   "metadata": {},
   "source": [
    "#### This is the Sentiment Analysis "
   ]
  },
  {
   "cell_type": "code",
   "execution_count": 196,
   "metadata": {},
   "outputs": [],
   "source": [
    "# the functions generates polarity and subjectivity here, subsetting the polarity only here\n",
    "allReviewsSentiment = reviewData.body[:900].apply(lambda x: TextBlob(x).sentiment[0])"
   ]
  },
  {
   "cell_type": "code",
   "execution_count": 197,
   "metadata": {},
   "outputs": [],
   "source": [
    "# this contains boths subjectivity and polarity\n",
    "allReviewsSentimentComplete = reviewData.body[:900].apply(lambda x: TextBlob(x).sentiment)"
   ]
  },
  {
   "cell_type": "code",
   "execution_count": 198,
   "metadata": {},
   "outputs": [
    {
     "data": {
      "text/plain": [
       "0    (0.34791666666666665, 0.4791666666666667)\n",
       "1     (0.2472222222222222, 0.3490740740740741)\n",
       "2    (0.26666666666666666, 0.7333333333333334)\n",
       "3     (0.2357707509881423, 0.5741357676140284)\n",
       "4    (0.06448412698412699, 0.4106009070294785)\n",
       "Name: body, dtype: object"
      ]
     },
     "execution_count": 198,
     "metadata": {},
     "output_type": "execute_result"
    }
   ],
   "source": [
    "allReviewsSentimentComplete.head()"
   ]
  },
  {
   "cell_type": "code",
   "execution_count": 199,
   "metadata": {},
   "outputs": [],
   "source": [
    "allReviewsSentiment.to_csv(out_folder + 'ReviewsSentiment.csv')"
   ]
  },
  {
   "cell_type": "code",
   "execution_count": null,
   "metadata": {},
   "outputs": [],
   "source": [
    "## get the respective counts for all the reviews\n",
    "# if the polarity is above 0.75 Very Satisfied\n",
    "# if the polarity is between 0.5-0.74 Satisfied\n",
    "# if the polarity is between 0.2-0.5 Nice\n",
    "# if the polarity is between -0.2 to 0.2 Neutral\n",
    "# if the polarity is between -0.2 to -0.5 Dissatisfied\n",
    "# if the polarity is between -0.5 to -0.74 Very Dissatisfied\n",
    "# if the polarity is less than -0.75 Extremely Dissatisfied\n"
   ]
  },
  {
   "cell_type": "code",
   "execution_count": 200,
   "metadata": {},
   "outputs": [],
   "source": [
    "allReviewsSentimentDF = allReviewsSentiment.to_frame()"
   ]
  },
  {
   "cell_type": "code",
   "execution_count": 201,
   "metadata": {},
   "outputs": [
    {
     "data": {
      "text/html": [
       "<div>\n",
       "<style scoped>\n",
       "    .dataframe tbody tr th:only-of-type {\n",
       "        vertical-align: middle;\n",
       "    }\n",
       "\n",
       "    .dataframe tbody tr th {\n",
       "        vertical-align: top;\n",
       "    }\n",
       "\n",
       "    .dataframe thead th {\n",
       "        text-align: right;\n",
       "    }\n",
       "</style>\n",
       "<table border=\"1\" class=\"dataframe\">\n",
       "  <thead>\n",
       "    <tr style=\"text-align: right;\">\n",
       "      <th></th>\n",
       "      <th>body</th>\n",
       "    </tr>\n",
       "  </thead>\n",
       "  <tbody>\n",
       "    <tr>\n",
       "      <th>0</th>\n",
       "      <td>0.347917</td>\n",
       "    </tr>\n",
       "    <tr>\n",
       "      <th>1</th>\n",
       "      <td>0.247222</td>\n",
       "    </tr>\n",
       "    <tr>\n",
       "      <th>2</th>\n",
       "      <td>0.266667</td>\n",
       "    </tr>\n",
       "    <tr>\n",
       "      <th>3</th>\n",
       "      <td>0.235771</td>\n",
       "    </tr>\n",
       "    <tr>\n",
       "      <th>4</th>\n",
       "      <td>0.064484</td>\n",
       "    </tr>\n",
       "  </tbody>\n",
       "</table>\n",
       "</div>"
      ],
      "text/plain": [
       "       body\n",
       "0  0.347917\n",
       "1  0.247222\n",
       "2  0.266667\n",
       "3  0.235771\n",
       "4  0.064484"
      ]
     },
     "execution_count": 201,
     "metadata": {},
     "output_type": "execute_result"
    }
   ],
   "source": [
    "allReviewsSentimentDF.head()"
   ]
  },
  {
   "cell_type": "code",
   "execution_count": 202,
   "metadata": {},
   "outputs": [],
   "source": [
    "# Create a list to store the data\n",
    "grades = []\n",
    "\n",
    "# For each row in the column,\n",
    "for row in allReviewsSentimentDF['body']:\n",
    "    # if more than a value,\n",
    "    if row >= 0.75:\n",
    "       grades.append('Extremely Satisfied')\n",
    "    elif (row >= 0.5) & (row < 0.75):\n",
    "        grades.append('Satisfied')\n",
    "    elif (row >= 0.2) & (row < 0.5):\n",
    "        grades.append('Nice')\n",
    "    elif (row >= -0.2) & (row < 0.2):\n",
    "        grades.append('Neutral')\n",
    "    elif (row > -0.5) & (row <= -0.2):\n",
    "        grades.append('Bad')\n",
    "    elif (row >= -0.75) & (row < -0.5):\n",
    "        grades.append('Dis-satisfied')\n",
    "    elif  row < -0.75:\n",
    "        grades.append('Extremely Dis-satisfied')\n",
    "    else:\n",
    "        # Append a failing grade\n",
    "        grades.append('No Sentiment')\n",
    "        \n",
    "# Create a column from the list\n",
    "allReviewsSentimentDF['SentimentScore'] = grades"
   ]
  },
  {
   "cell_type": "code",
   "execution_count": 203,
   "metadata": {},
   "outputs": [
    {
     "data": {
      "text/html": [
       "<div>\n",
       "<style scoped>\n",
       "    .dataframe tbody tr th:only-of-type {\n",
       "        vertical-align: middle;\n",
       "    }\n",
       "\n",
       "    .dataframe tbody tr th {\n",
       "        vertical-align: top;\n",
       "    }\n",
       "\n",
       "    .dataframe thead th {\n",
       "        text-align: right;\n",
       "    }\n",
       "</style>\n",
       "<table border=\"1\" class=\"dataframe\">\n",
       "  <thead>\n",
       "    <tr style=\"text-align: right;\">\n",
       "      <th></th>\n",
       "      <th>body</th>\n",
       "      <th>SentimentScore</th>\n",
       "    </tr>\n",
       "  </thead>\n",
       "  <tbody>\n",
       "    <tr>\n",
       "      <th>0</th>\n",
       "      <td>0.347917</td>\n",
       "      <td>Nice</td>\n",
       "    </tr>\n",
       "    <tr>\n",
       "      <th>1</th>\n",
       "      <td>0.247222</td>\n",
       "      <td>Nice</td>\n",
       "    </tr>\n",
       "    <tr>\n",
       "      <th>2</th>\n",
       "      <td>0.266667</td>\n",
       "      <td>Nice</td>\n",
       "    </tr>\n",
       "    <tr>\n",
       "      <th>3</th>\n",
       "      <td>0.235771</td>\n",
       "      <td>Nice</td>\n",
       "    </tr>\n",
       "    <tr>\n",
       "      <th>4</th>\n",
       "      <td>0.064484</td>\n",
       "      <td>Neutral</td>\n",
       "    </tr>\n",
       "  </tbody>\n",
       "</table>\n",
       "</div>"
      ],
      "text/plain": [
       "       body SentimentScore\n",
       "0  0.347917           Nice\n",
       "1  0.247222           Nice\n",
       "2  0.266667           Nice\n",
       "3  0.235771           Nice\n",
       "4  0.064484        Neutral"
      ]
     },
     "execution_count": 203,
     "metadata": {},
     "output_type": "execute_result"
    }
   ],
   "source": [
    "allReviewsSentimentDF.head()"
   ]
  },
  {
   "cell_type": "code",
   "execution_count": 204,
   "metadata": {},
   "outputs": [
    {
     "data": {
      "text/plain": [
       "Neutral                417\n",
       "Nice                   286\n",
       "Satisfied              103\n",
       "Extremely Satisfied     54\n",
       "Bad                     16\n",
       "No Sentiment             9\n",
       "Dis-satisfied            5\n",
       "Name: SentimentScore, dtype: int64"
      ]
     },
     "execution_count": 204,
     "metadata": {},
     "output_type": "execute_result"
    }
   ],
   "source": [
    "allReviewsSentimentDF.SentimentScore.value_counts()"
   ]
  },
  {
   "cell_type": "code",
   "execution_count": 205,
   "metadata": {},
   "outputs": [
    {
     "data": {
      "text/plain": [
       "pandas.core.series.Series"
      ]
     },
     "execution_count": 205,
     "metadata": {},
     "output_type": "execute_result"
    }
   ],
   "source": [
    "type(allReviewsSentimentDF.SentimentScore)"
   ]
  },
  {
   "cell_type": "code",
   "execution_count": 206,
   "metadata": {},
   "outputs": [
    {
     "data": {
      "text/plain": [
       "<matplotlib.axes._subplots.AxesSubplot at 0x1a1edbb908>"
      ]
     },
     "execution_count": 206,
     "metadata": {},
     "output_type": "execute_result"
    },
    {
     "data": {
      "image/png": "[encoded data removed]",
      "text/plain": [
       "<matplotlib.figure.Figure at 0x1a1edc6240>"
      ]
     },
     "metadata": {},
     "output_type": "display_data"
    }
   ],
   "source": [
    "allReviewsSentimentDF['SentimentScore'].value_counts().plot(kind='bar')"
   ]
  },
  {
   "cell_type": "code",
   "execution_count": 207,
   "metadata": {},
   "outputs": [
    {
     "data": {
      "text/html": [
       "<div>\n",
       "<style scoped>\n",
       "    .dataframe tbody tr th:only-of-type {\n",
       "        vertical-align: middle;\n",
       "    }\n",
       "\n",
       "    .dataframe tbody tr th {\n",
       "        vertical-align: top;\n",
       "    }\n",
       "\n",
       "    .dataframe thead th {\n",
       "        text-align: right;\n",
       "    }\n",
       "</style>\n",
       "<table border=\"1\" class=\"dataframe\">\n",
       "  <thead>\n",
       "    <tr style=\"text-align: right;\">\n",
       "      <th></th>\n",
       "      <th>author</th>\n",
       "      <th>body</th>\n",
       "      <th>date</th>\n",
       "      <th>helpful</th>\n",
       "      <th>rating</th>\n",
       "      <th>title</th>\n",
       "    </tr>\n",
       "  </thead>\n",
       "  <tbody>\n",
       "    <tr>\n",
       "      <th>0</th>\n",
       "      <td>['Rob A.']</td>\n",
       "      <td>replaced old 80 slide timer clock gravity fed ...</td>\n",
       "      <td>['on 16 January 2018']</td>\n",
       "      <td>['115 people found this helpful']</td>\n",
       "      <td>['5.0 out of 5 stars']</td>\n",
       "      <td>['Really useful, and sort of cool!']</td>\n",
       "    </tr>\n",
       "    <tr>\n",
       "      <th>1</th>\n",
       "      <td>['S. Newton']</td>\n",
       "      <td>combi water tank unit arrived within couple da...</td>\n",
       "      <td>['on 26 December 2017']</td>\n",
       "      <td>['3 people found this helpful']</td>\n",
       "      <td>['4.0 out of 5 stars']</td>\n",
       "      <td>['Works fine with Alexa. Dubious about claimed...</td>\n",
       "    </tr>\n",
       "    <tr>\n",
       "      <th>2</th>\n",
       "      <td>['JC']</td>\n",
       "      <td>bough together multizone phoned came installed...</td>\n",
       "      <td>['on 15 July 2017']</td>\n",
       "      <td>['3 people found this helpful']</td>\n",
       "      <td>['5.0 out of 5 stars']</td>\n",
       "      <td>['Have been perfectly happy with the installat...</td>\n",
       "    </tr>\n",
       "    <tr>\n",
       "      <th>3</th>\n",
       "      <td>['Fionn']</td>\n",
       "      <td>delighted setup bought without ireland also bo...</td>\n",
       "      <td>['on 6 February 2017']</td>\n",
       "      <td>['One person found this helpful']</td>\n",
       "      <td>['5.0 out of 5 stars']</td>\n",
       "      <td>['Slick Simple Functionality']</td>\n",
       "    </tr>\n",
       "    <tr>\n",
       "      <th>4</th>\n",
       "      <td>['Nemesis']</td>\n",
       "      <td>previously purchased drayton wiser wireless tr...</td>\n",
       "      <td>['on 5 March 2018']</td>\n",
       "      <td>[]</td>\n",
       "      <td>['5.0 out of 5 stars']</td>\n",
       "      <td>['Simple, elegant and just works.']</td>\n",
       "    </tr>\n",
       "  </tbody>\n",
       "</table>\n",
       "</div>"
      ],
      "text/plain": [
       "          author                                               body  \\\n",
       "0     ['Rob A.']  replaced old 80 slide timer clock gravity fed ...   \n",
       "1  ['S. Newton']  combi water tank unit arrived within couple da...   \n",
       "2         ['JC']  bough together multizone phoned came installed...   \n",
       "3      ['Fionn']  delighted setup bought without ireland also bo...   \n",
       "4    ['Nemesis']  previously purchased drayton wiser wireless tr...   \n",
       "\n",
       "                      date                            helpful  \\\n",
       "0   ['on 16 January 2018']  ['115 people found this helpful']   \n",
       "1  ['on 26 December 2017']    ['3 people found this helpful']   \n",
       "2      ['on 15 July 2017']    ['3 people found this helpful']   \n",
       "3   ['on 6 February 2017']  ['One person found this helpful']   \n",
       "4      ['on 5 March 2018']                                 []   \n",
       "\n",
       "                   rating                                              title  \n",
       "0  ['5.0 out of 5 stars']               ['Really useful, and sort of cool!']  \n",
       "1  ['4.0 out of 5 stars']  ['Works fine with Alexa. Dubious about claimed...  \n",
       "2  ['5.0 out of 5 stars']  ['Have been perfectly happy with the installat...  \n",
       "3  ['5.0 out of 5 stars']                     ['Slick Simple Functionality']  \n",
       "4  ['5.0 out of 5 stars']                ['Simple, elegant and just works.']  "
      ]
     },
     "execution_count": 207,
     "metadata": {},
     "output_type": "execute_result"
    }
   ],
   "source": [
    "reviewData.head()"
   ]
  },
  {
   "cell_type": "code",
   "execution_count": 208,
   "metadata": {},
   "outputs": [
    {
     "data": {
      "text/plain": [
       "890"
      ]
     },
     "execution_count": 208,
     "metadata": {},
     "output_type": "execute_result"
    }
   ],
   "source": [
    "len(reviewData)"
   ]
  },
  {
   "cell_type": "code",
   "execution_count": 209,
   "metadata": {},
   "outputs": [],
   "source": [
    "#### Merge the review data with Sentiment generated\n",
    "\n",
    "# add column Polarity Score\n",
    "reviewData['polarityScore'] = allReviewsSentimentDF['body']\n",
    "\n"
   ]
  },
  {
   "cell_type": "code",
   "execution_count": 210,
   "metadata": {},
   "outputs": [
    {
     "data": {
      "text/html": [
       "<div>\n",
       "<style scoped>\n",
       "    .dataframe tbody tr th:only-of-type {\n",
       "        vertical-align: middle;\n",
       "    }\n",
       "\n",
       "    .dataframe tbody tr th {\n",
       "        vertical-align: top;\n",
       "    }\n",
       "\n",
       "    .dataframe thead th {\n",
       "        text-align: right;\n",
       "    }\n",
       "</style>\n",
       "<table border=\"1\" class=\"dataframe\">\n",
       "  <thead>\n",
       "    <tr style=\"text-align: right;\">\n",
       "      <th></th>\n",
       "      <th>author</th>\n",
       "      <th>body</th>\n",
       "      <th>date</th>\n",
       "      <th>helpful</th>\n",
       "      <th>rating</th>\n",
       "      <th>title</th>\n",
       "      <th>polarityScore</th>\n",
       "    </tr>\n",
       "  </thead>\n",
       "  <tbody>\n",
       "    <tr>\n",
       "      <th>0</th>\n",
       "      <td>['Rob A.']</td>\n",
       "      <td>replaced old 80 slide timer clock gravity fed ...</td>\n",
       "      <td>['on 16 January 2018']</td>\n",
       "      <td>['115 people found this helpful']</td>\n",
       "      <td>['5.0 out of 5 stars']</td>\n",
       "      <td>['Really useful, and sort of cool!']</td>\n",
       "      <td>0.347917</td>\n",
       "    </tr>\n",
       "    <tr>\n",
       "      <th>1</th>\n",
       "      <td>['S. Newton']</td>\n",
       "      <td>combi water tank unit arrived within couple da...</td>\n",
       "      <td>['on 26 December 2017']</td>\n",
       "      <td>['3 people found this helpful']</td>\n",
       "      <td>['4.0 out of 5 stars']</td>\n",
       "      <td>['Works fine with Alexa. Dubious about claimed...</td>\n",
       "      <td>0.247222</td>\n",
       "    </tr>\n",
       "    <tr>\n",
       "      <th>2</th>\n",
       "      <td>['JC']</td>\n",
       "      <td>bough together multizone phoned came installed...</td>\n",
       "      <td>['on 15 July 2017']</td>\n",
       "      <td>['3 people found this helpful']</td>\n",
       "      <td>['5.0 out of 5 stars']</td>\n",
       "      <td>['Have been perfectly happy with the installat...</td>\n",
       "      <td>0.266667</td>\n",
       "    </tr>\n",
       "    <tr>\n",
       "      <th>3</th>\n",
       "      <td>['Fionn']</td>\n",
       "      <td>delighted setup bought without ireland also bo...</td>\n",
       "      <td>['on 6 February 2017']</td>\n",
       "      <td>['One person found this helpful']</td>\n",
       "      <td>['5.0 out of 5 stars']</td>\n",
       "      <td>['Slick Simple Functionality']</td>\n",
       "      <td>0.235771</td>\n",
       "    </tr>\n",
       "    <tr>\n",
       "      <th>4</th>\n",
       "      <td>['Nemesis']</td>\n",
       "      <td>previously purchased drayton wiser wireless tr...</td>\n",
       "      <td>['on 5 March 2018']</td>\n",
       "      <td>[]</td>\n",
       "      <td>['5.0 out of 5 stars']</td>\n",
       "      <td>['Simple, elegant and just works.']</td>\n",
       "      <td>0.064484</td>\n",
       "    </tr>\n",
       "  </tbody>\n",
       "</table>\n",
       "</div>"
      ],
      "text/plain": [
       "          author                                               body  \\\n",
       "0     ['Rob A.']  replaced old 80 slide timer clock gravity fed ...   \n",
       "1  ['S. Newton']  combi water tank unit arrived within couple da...   \n",
       "2         ['JC']  bough together multizone phoned came installed...   \n",
       "3      ['Fionn']  delighted setup bought without ireland also bo...   \n",
       "4    ['Nemesis']  previously purchased drayton wiser wireless tr...   \n",
       "\n",
       "                      date                            helpful  \\\n",
       "0   ['on 16 January 2018']  ['115 people found this helpful']   \n",
       "1  ['on 26 December 2017']    ['3 people found this helpful']   \n",
       "2      ['on 15 July 2017']    ['3 people found this helpful']   \n",
       "3   ['on 6 February 2017']  ['One person found this helpful']   \n",
       "4      ['on 5 March 2018']                                 []   \n",
       "\n",
       "                   rating                                              title  \\\n",
       "0  ['5.0 out of 5 stars']               ['Really useful, and sort of cool!']   \n",
       "1  ['4.0 out of 5 stars']  ['Works fine with Alexa. Dubious about claimed...   \n",
       "2  ['5.0 out of 5 stars']  ['Have been perfectly happy with the installat...   \n",
       "3  ['5.0 out of 5 stars']                     ['Slick Simple Functionality']   \n",
       "4  ['5.0 out of 5 stars']                ['Simple, elegant and just works.']   \n",
       "\n",
       "   polarityScore  \n",
       "0       0.347917  \n",
       "1       0.247222  \n",
       "2       0.266667  \n",
       "3       0.235771  \n",
       "4       0.064484  "
      ]
     },
     "execution_count": 210,
     "metadata": {},
     "output_type": "execute_result"
    }
   ],
   "source": [
    "reviewData.head()"
   ]
  },
  {
   "cell_type": "markdown",
   "metadata": {},
   "source": [
    "#### Generate the word-cloud for sentiments with bad reviews"
   ]
  },
  {
   "cell_type": "code",
   "execution_count": 211,
   "metadata": {},
   "outputs": [],
   "source": [
    "negativeReviews = reviewData[reviewData.polarityScore < 0]"
   ]
  },
  {
   "cell_type": "code",
   "execution_count": 212,
   "metadata": {},
   "outputs": [
    {
     "data": {
      "text/html": [
       "<div>\n",
       "<style scoped>\n",
       "    .dataframe tbody tr th:only-of-type {\n",
       "        vertical-align: middle;\n",
       "    }\n",
       "\n",
       "    .dataframe tbody tr th {\n",
       "        vertical-align: top;\n",
       "    }\n",
       "\n",
       "    .dataframe thead th {\n",
       "        text-align: right;\n",
       "    }\n",
       "</style>\n",
       "<table border=\"1\" class=\"dataframe\">\n",
       "  <thead>\n",
       "    <tr style=\"text-align: right;\">\n",
       "      <th></th>\n",
       "      <th>author</th>\n",
       "      <th>body</th>\n",
       "      <th>date</th>\n",
       "      <th>helpful</th>\n",
       "      <th>rating</th>\n",
       "      <th>title</th>\n",
       "      <th>polarityScore</th>\n",
       "    </tr>\n",
       "  </thead>\n",
       "  <tbody>\n",
       "    <tr>\n",
       "      <th>9</th>\n",
       "      <td>['JSS']</td>\n",
       "      <td>bought sale july knowing itd much easier insta...</td>\n",
       "      <td>['on 23 July 2017']</td>\n",
       "      <td>['2 people found this helpful']</td>\n",
       "      <td>['5.0 out of 5 stars']</td>\n",
       "      <td>['Easy and quick install - great product']</td>\n",
       "      <td>-0.091667</td>\n",
       "    </tr>\n",
       "    <tr>\n",
       "      <th>0</th>\n",
       "      <td>['Amazon Customer']</td>\n",
       "      <td>came already scratched code called book appoin...</td>\n",
       "      <td>['on 28 December 2017']</td>\n",
       "      <td>['4 people found this helpful']</td>\n",
       "      <td>['1.0 out of 5 stars']</td>\n",
       "      <td>['Very disappointed. Have to wait for months f...</td>\n",
       "      <td>-0.750000</td>\n",
       "    </tr>\n",
       "    <tr>\n",
       "      <th>0</th>\n",
       "      <td>['Wayne68']</td>\n",
       "      <td>work well installed year cut usage two third w...</td>\n",
       "      <td>['on 13 January 2018']</td>\n",
       "      <td>['One person found this helpful']</td>\n",
       "      <td>['5.0 out of 5 stars']</td>\n",
       "      <td>['Love Hive.']</td>\n",
       "      <td>-0.009524</td>\n",
       "    </tr>\n",
       "    <tr>\n",
       "      <th>1</th>\n",
       "      <td>['BeckyS']</td>\n",
       "      <td>sitting uselessly side since november bought i...</td>\n",
       "      <td>['on 19 December 2017']</td>\n",
       "      <td>['3 people found this helpful']</td>\n",
       "      <td>['1.0 out of 5 stars']</td>\n",
       "      <td>['No one is available to install i..']</td>\n",
       "      <td>-0.050000</td>\n",
       "    </tr>\n",
       "    <tr>\n",
       "      <th>2</th>\n",
       "      <td>['Amazon Customer']</td>\n",
       "      <td>ordered turn 2 week appointment provided commu...</td>\n",
       "      <td>['on 28 February 2018']</td>\n",
       "      <td>['2 people found this helpful']</td>\n",
       "      <td>['1.0 out of 5 stars']</td>\n",
       "      <td>['Engineer did not attend appointment']</td>\n",
       "      <td>-0.600000</td>\n",
       "    </tr>\n",
       "  </tbody>\n",
       "</table>\n",
       "</div>"
      ],
      "text/plain": [
       "                author                                               body  \\\n",
       "9              ['JSS']  bought sale july knowing itd much easier insta...   \n",
       "0  ['Amazon Customer']  came already scratched code called book appoin...   \n",
       "0          ['Wayne68']  work well installed year cut usage two third w...   \n",
       "1           ['BeckyS']  sitting uselessly side since november bought i...   \n",
       "2  ['Amazon Customer']  ordered turn 2 week appointment provided commu...   \n",
       "\n",
       "                      date                            helpful  \\\n",
       "9      ['on 23 July 2017']    ['2 people found this helpful']   \n",
       "0  ['on 28 December 2017']    ['4 people found this helpful']   \n",
       "0   ['on 13 January 2018']  ['One person found this helpful']   \n",
       "1  ['on 19 December 2017']    ['3 people found this helpful']   \n",
       "2  ['on 28 February 2018']    ['2 people found this helpful']   \n",
       "\n",
       "                   rating                                              title  \\\n",
       "9  ['5.0 out of 5 stars']         ['Easy and quick install - great product']   \n",
       "0  ['1.0 out of 5 stars']  ['Very disappointed. Have to wait for months f...   \n",
       "0  ['5.0 out of 5 stars']                                     ['Love Hive.']   \n",
       "1  ['1.0 out of 5 stars']             ['No one is available to install i..']   \n",
       "2  ['1.0 out of 5 stars']            ['Engineer did not attend appointment']   \n",
       "\n",
       "   polarityScore  \n",
       "9      -0.091667  \n",
       "0      -0.750000  \n",
       "0      -0.009524  \n",
       "1      -0.050000  \n",
       "2      -0.600000  "
      ]
     },
     "execution_count": 212,
     "metadata": {},
     "output_type": "execute_result"
    }
   ],
   "source": [
    "negativeReviews.head()"
   ]
  },
  {
   "cell_type": "code",
   "execution_count": 213,
   "metadata": {},
   "outputs": [],
   "source": [
    "negativeString = negativeReviews.iloc[1,1]"
   ]
  },
  {
   "cell_type": "code",
   "execution_count": 214,
   "metadata": {},
   "outputs": [],
   "source": [
    "# append to this string \n",
    "for i in range(2,len(reviewData)):\n",
    "    negativeString = negativeString + reviewData.iloc[i,1]"
   ]
  },
  {
   "cell_type": "code",
   "execution_count": 215,
   "metadata": {},
   "outputs": [
    {
     "data": {
      "image/png": "[encoded data removed]",
      "text/plain": [
       "<matplotlib.figure.Figure at 0x1a1edbc4e0>"
      ]
     },
     "metadata": {},
     "output_type": "display_data"
    }
   ],
   "source": [
    "generate_wordcloud(negativeString)"
   ]
  }
 ],
 "metadata": {
  "kernelspec": {
   "display_name": "Python 3",
   "language": "python",
   "name": "python3"
  },
  "language_info": {
   "codemirror_mode": {
    "name": "ipython",
    "version": 3
   },
   "file_extension": ".py",
   "mimetype": "text/x-python",
   "name": "python",
   "nbconvert_exporter": "python",
   "pygments_lexer": "ipython3",
   "version": "3.6.4"
  }
 },
 "nbformat": 4,
 "nbformat_minor": 2
}
